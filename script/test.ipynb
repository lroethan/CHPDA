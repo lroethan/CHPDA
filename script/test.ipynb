{
 "cells": [
  {
   "cell_type": "code",
   "execution_count": 1,
   "metadata": {},
   "outputs": [
    {
     "data": {
      "text/plain": [
       "array([0.07201822, 0.05106746, 0.03660689, 0.06774836, 0.02966126,\n",
       "       0.0961002 , 0.04429263, 0.11380586, 0.09621406, 0.08158269,\n",
       "       0.10224879, 0.07207515, 0.05955024, 0.07702818])"
      ]
     },
     "execution_count": 1,
     "metadata": {},
     "output_type": "execute_result"
    }
   ],
   "source": [
    "import numpy as np\n",
    "\n",
    "_frequencies = [1265, 897, 643, 1190, 521, 1688, 778, 1999, 1690, 1433, 1796, 1266, 1046, 1353]\n",
    "frequencies = np.array(_frequencies) / np.array(_frequencies).sum()\n",
    "\n",
    "frequencies"
   ]
  },
  {
   "cell_type": "code",
   "execution_count": null,
   "metadata": {},
   "outputs": [],
   "source": [
    "a = TiDBHypo(\"imdbload\")\n",
    "# b = a.execute_create_hypo(\"aka_name#surname_pcode\")\n",
    "b = a.get_hypo_indexes_from_one_table(\"aka_name\")\n",
    "b\n",
    "# a.test()\n"
   ]
  },
  {
   "cell_type": "code",
   "execution_count": null,
   "metadata": {},
   "outputs": [],
   "source": [
    "\n",
    "string = \"KEY `hypo_aka_name_name_pcode_nf_idx` (`name_pcode_nf`) /* HYPO INDEX */\"\n",
    "\n",
    "if \"HYPO INDEX\" in string:\n",
    "    tmp = string.split(\"`\")\n",
    "    idx_name = tmp[1]\n",
    "    table_name = \"aka_name\"\n",
    "    hypo = f\"{table_name}.{idx_name}\"\n",
    "    print(hypo)\n",
    "    \n",
    "    "
   ]
  },
  {
   "cell_type": "code",
   "execution_count": null,
   "metadata": {},
   "outputs": [],
   "source": [
    "import numpy as np\n",
    "\n",
    "np.zeros(60, dtype=np.cfloat)"
   ]
  },
  {
   "cell_type": "code",
   "execution_count": null,
   "metadata": {},
   "outputs": [],
   "source": [
    "import pymysql\n",
    "\n",
    "\n",
    "def get_hypo_indexes_from_table(conn, table_name):\n",
    "    statement = f\"show create table {table_name}\"\n",
    "    cur = conn.cursor()\n",
    "    result = cur.execute(statement)\n",
    "    hypo_indexes = []\n",
    "    for line in result[1].split(\"\\n\"):\n",
    "        if \"HYPO INDEX\" in line:\n",
    "            tmp = line.split(\"`\")\n",
    "            hypo_indexes.append(tmp[1])\n",
    "    return hypo_indexes\n",
    "    \n",
    "    \n",
    "\n",
    "conn = pymysql.connect(host='127.0.0.1',\n",
    "                     port=4000,\n",
    "                     user='root',\n",
    "                     password='',\n",
    "                     database=\"imdbload\",\n",
    "                     local_infile=True)\n",
    "\n",
    "cur = conn.cursor()\n",
    "\n",
    "\n",
    "\n",
    "statement = \"create index hypo_aka_name_name_pcode_nf_idx type hypo on aka_name (name_pcode_nf);\"\n",
    "s2 = \"show create table aka_name;\"\n",
    "\n",
    "\n",
    "cur.execute(statement)\n",
    "\n",
    "print(get_hypo_indexes_from_table(conn, \"aka_name\"))\n",
    "\n",
    "cur.execute(s2)\n",
    "\n",
    "print(cur.fetchall())"
   ]
  },
  {
   "cell_type": "code",
   "execution_count": 2,
   "metadata": {},
   "outputs": [
    {
     "data": {
      "text/plain": [
       "['123', '23123']"
      ]
     },
     "execution_count": 2,
     "metadata": {},
     "output_type": "execute_result"
    }
   ],
   "source": [
    "indexes = [1.0, 0.0, 1.0]\n",
    "index_candidates=[\"123\",\"423123\", \"23123\"]\n",
    "\n",
    "selected_indexes = [index_candidates[i] for i, idx in enumerate(indexes) if idx == 1.0]\n",
    "\n",
    "selected_indexes"
   ]
  },
  {
   "cell_type": "code",
   "execution_count": 9,
   "metadata": {},
   "outputs": [
    {
     "data": {
      "text/plain": [
       "0.0"
      ]
     },
     "execution_count": 9,
     "metadata": {},
     "output_type": "execute_result"
    }
   ],
   "source": [
    "import numpy as np\n",
    "\n",
    "action = np.random.randint(0, 65)\n",
    "\n",
    "\n",
    "\n",
    "a = np.float64(0)\n",
    "a"
   ]
  },
  {
   "cell_type": "code",
   "execution_count": 7,
   "metadata": {},
   "outputs": [
    {
     "data": {
      "text/plain": [
       "array([0., 0., 0., 0., 0., 0., 0., 0., 0., 0.])"
      ]
     },
     "execution_count": 7,
     "metadata": {},
     "output_type": "execute_result"
    }
   ],
   "source": [
    "a = np.zeros(10)\n",
    "a\n",
    "\n"
   ]
  }
 ],
 "metadata": {
  "kernelspec": {
   "display_name": "sb3",
   "language": "python",
   "name": "python3"
  },
  "language_info": {
   "codemirror_mode": {
    "name": "ipython",
    "version": 3
   },
   "file_extension": ".py",
   "mimetype": "text/x-python",
   "name": "python",
   "nbconvert_exporter": "python",
   "pygments_lexer": "ipython3",
   "version": "3.10.11"
  },
  "orig_nbformat": 4
 },
 "nbformat": 4,
 "nbformat_minor": 2
}
