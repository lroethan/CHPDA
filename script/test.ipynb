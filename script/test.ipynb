{
 "cells": [
  {
   "cell_type": "code",
   "execution_count": 1,
   "metadata": {},
   "outputs": [],
   "source": [
    "from array import array\n",
    "import math\n",
    "\n",
    "class Vector2d:\n",
    "    typecode = 'd'\n",
    "    \n",
    "    def __init__(self, x, y) -> None:\n",
    "        self.x = float(x)\n",
    "        self.y = float(y)\n",
    "        \n",
    "    def __iter__(self):\n",
    "        return (i for i in (self.x, self.y))\n",
    "    \n",
    "    def __repr__(self) -> str:\n",
    "        class_name = type(self).__name__\n",
    "        return '{}({!r}, {!r})'.format(class_name, *self)\n",
    "    \n",
    "    def __str__(self) -> str:\n",
    "        return str(tuple(self))\n",
    "    \n",
    "    def __bytes__(self) -> bytes:\n",
    "        return (bytes([ord(self.typecode)]) + bytes(array(self.typecode, self)))\n",
    "    \n",
    "    def __eq__(self, other) -> bool:\n",
    "        return tuple(self) == tuple(other)\n",
    "    \n",
    "    def __abs__(self) -> float:\n",
    "        return math.hypot(self.x, self.y)\n",
    "    \n",
    "    def __bool__(self) -> bool:\n",
    "        return bool(abs(self))\n",
    "    \n",
    "    def __format__(self, format_spec) -> str:\n",
    "        if format_spec.endswith('p'):\n",
    "            format_spec = format_spec[:-1]\n",
    "            coords = (abs(self), self.angle())\n",
    "            outer_format = '<{}, {}>'\n",
    "        else:\n",
    "            coords = self\n",
    "            outer_format = '({}, {})'\n",
    "        components = (format(c, format_spec) for c in coords)\n",
    "        return outer_format.format(*components)\n",
    "    \n",
    "    def angle(self) -> float:\n",
    "        return math.atan2(self.y, self.x)\n",
    "    \n",
    "    def __hash__(self) -> int:\n",
    "        return hash(self.x) ^ hash(self.y)\n",
    "    \n",
    "    def __bool__(self) -> bool:\n",
    "        return bool(abs(self))\n",
    "\n",
    "\n",
    "v1 = Vector2d(3, 4)"
   ]
  },
  {
   "cell_type": "code",
   "execution_count": 2,
   "metadata": {},
   "outputs": [
    {
     "name": "stdout",
     "output_type": "stream",
     "text": [
      "(3.0, 4.0)\n"
     ]
    }
   ],
   "source": [
    "print(v1)"
   ]
  }
 ],
 "metadata": {
  "kernelspec": {
   "display_name": "sb3",
   "language": "python",
   "name": "python3"
  },
  "language_info": {
   "codemirror_mode": {
    "name": "ipython",
    "version": 3
   },
   "file_extension": ".py",
   "mimetype": "text/x-python",
   "name": "python",
   "nbconvert_exporter": "python",
   "pygments_lexer": "ipython3",
   "version": "3.10.11"
  },
  "orig_nbformat": 4
 },
 "nbformat": 4,
 "nbformat_minor": 2
}
