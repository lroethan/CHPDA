{
 "cells": [
  {
   "cell_type": "code",
   "execution_count": null,
   "metadata": {},
   "outputs": [],
   "source": [
    "import pickle\n",
    "\n",
    "# 读取 ../entry/workload.pickle\n",
    "with open(\"../entry/workload.pickle\", \"rb\") as wf:\n",
    "    workload = pickle.load(wf)\n",
    "    # 将它导出到一个文本文件中\n",
    "    with open(\"workload.txt\", \"w\") as f:\n",
    "            f.write(workload)\n",
    "\n",
    "            \n",
    "            "
   ]
  },
  {
   "cell_type": "code",
   "execution_count": null,
   "metadata": {},
   "outputs": [],
   "source": [
    "a = TiDBHypo(\"imdbload\")\n",
    "# b = a.execute_create_hypo(\"aka_name#surname_pcode\")\n",
    "b = a.get_hypo_indexes_from_one_table(\"aka_name\")\n",
    "b\n",
    "# a.test()\n"
   ]
  },
  {
   "cell_type": "code",
   "execution_count": null,
   "metadata": {},
   "outputs": [],
   "source": [
    "\n",
    "string = \"KEY `hypo_aka_name_name_pcode_nf_idx` (`name_pcode_nf`) /* HYPO INDEX */\"\n",
    "\n",
    "if \"HYPO INDEX\" in string:\n",
    "    tmp = string.split(\"`\")\n",
    "    idx_name = tmp[1]\n",
    "    table_name = \"aka_name\"\n",
    "    hypo = f\"{table_name}.{idx_name}\"\n",
    "    print(hypo)\n",
    "    \n",
    "    "
   ]
  },
  {
   "cell_type": "code",
   "execution_count": null,
   "metadata": {},
   "outputs": [],
   "source": [
    "import numpy as np\n",
    "\n",
    "np.zeros(60, dtype=np.cfloat)"
   ]
  },
  {
   "cell_type": "code",
   "execution_count": null,
   "metadata": {},
   "outputs": [],
   "source": [
    "import pymysql\n",
    "\n",
    "\n",
    "def get_hypo_indexes_from_table(conn, table_name):\n",
    "    statement = f\"show create table {table_name}\"\n",
    "    cur = conn.cursor()\n",
    "    result = cur.execute(statement)\n",
    "    hypo_indexes = []\n",
    "    for line in result[1].split(\"\\n\"):\n",
    "        if \"HYPO INDEX\" in line:\n",
    "            tmp = line.split(\"`\")\n",
    "            hypo_indexes.append(tmp[1])\n",
    "    return hypo_indexes\n",
    "    \n",
    "    \n",
    "\n",
    "conn = pymysql.connect(host='127.0.0.1',\n",
    "                     port=4000,\n",
    "                     user='root',\n",
    "                     password='',\n",
    "                     database=\"imdbload\",\n",
    "                     local_infile=True)\n",
    "\n",
    "cur = conn.cursor()\n",
    "\n",
    "\n",
    "\n",
    "statement = \"create index hypo_aka_name_name_pcode_nf_idx type hypo on aka_name (name_pcode_nf);\"\n",
    "s2 = \"show create table aka_name;\"\n",
    "\n",
    "\n",
    "cur.execute(statement)\n",
    "\n",
    "print(get_hypo_indexes_from_table(conn, \"aka_name\"))\n",
    "\n",
    "cur.execute(s2)\n",
    "\n",
    "print(cur.fetchall())"
   ]
  }
 ],
 "metadata": {
  "kernelspec": {
   "display_name": "sb3",
   "language": "python",
   "name": "python3"
  },
  "language_info": {
   "codemirror_mode": {
    "name": "ipython",
    "version": 3
   },
   "file_extension": ".py",
   "mimetype": "text/x-python",
   "name": "python",
   "nbconvert_exporter": "python",
   "pygments_lexer": "ipython3",
   "version": "3.10.11"
  },
  "orig_nbformat": 4
 },
 "nbformat": 4,
 "nbformat_minor": 2
}
